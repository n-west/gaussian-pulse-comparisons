{
 "cells": [
  {
   "cell_type": "code",
   "execution_count": 8,
   "metadata": {},
   "outputs": [],
   "source": [
    "%matplotlib widget\n",
    "import matplotlib.pyplot as plt\n",
    "import numpy as np\n",
    "import scipy.signal as spsig\n",
    "import scipy.special as spsp"
   ]
  },
  {
   "cell_type": "code",
   "execution_count": 9,
   "metadata": {},
   "outputs": [],
   "source": [
    "# Some parameters common to all\n",
    "sps = 4\n",
    "bt = .5\n",
    "L = 6\n",
    "num_taps = L * sps\n",
    "\n"
   ]
  },
  {
   "cell_type": "code",
   "execution_count": 10,
   "metadata": {},
   "outputs": [],
   "source": [
    "def analog_equiv(sps, L, bt):\n",
    "    # Use the erf based formulation\n",
    "    # This is 1:1 equivalent to the gr-analog implementation\n",
    "    n = np.arange(L*sps) - L*sps/2\n",
    "    t = n/sps\n",
    "    alpha = np.sqrt(2/np.log(2)) * np.pi * bt\n",
    "    taps = (spsp.erf(alpha * (t + 0.5)) - spsp.erf(alpha * (t - 0.5))) * 0.5 / sps\n",
    "    return taps/np.sum(taps)\n",
    "\n",
    "def filter_equiv(sps, bt, num_taps):\n",
    "    n = np.arange(num_taps) - num_taps/2 + 1\n",
    "    t = n/sps # equivalent to dt * t0\n",
    "    s = 1.0/(np.sqrt(np.log(2.0)) / (2*np.pi*bt))\n",
    "    ts = t * s\n",
    "    taps = np.exp(-0.5 * ts**2)\n",
    "    return taps/np.sum(taps)\n"
   ]
  },
  {
   "cell_type": "code",
   "execution_count": 11,
   "metadata": {},
   "outputs": [],
   "source": [
    "erf_taps = analog_equiv(sps, L, bt)\n",
    "exp_taps = filter_equiv(sps, bt, num_taps)\n"
   ]
  },
  {
   "cell_type": "code",
   "execution_count": null,
   "metadata": {},
   "outputs": [],
   "source": [
    "T = np.fft.fftshift(np.fft.fft(erf_taps))\n",
    "T = 20*np.log10(np.abs(T))\n",
    "f = np.arange(-L/2, L/2 , 1/sps)\n",
    "\n",
    "plt.figure()\n",
    "plt.plot(f, T)\n",
    "plt.title(\"Magnitude Frequency Response of Gaussian pulse (erf based)\")\n",
    "plt.vlines([-0.5, 0.5], -60, 0, colors='r', linestyles='dashed')\n",
    "plt.hlines(-3, -L/2, L/2, colors='r', linestyles='dashed')\n",
    "plt.ylim(-50,0)\n"
   ]
  },
  {
   "cell_type": "code",
   "execution_count": null,
   "metadata": {},
   "outputs": [],
   "source": [
    "T = np.fft.fftshift(np.fft.fft(exp_taps))\n",
    "T = 20*np.log10(np.abs(T))\n",
    "f = np.arange(-L/2, L/2 , 1/sps)\n",
    "\n",
    "plt.figure()\n",
    "plt.plot(f, T)\n",
    "plt.title(\"Magnitude Frequency Response of Gaussian pulse (exp based)\")\n",
    "plt.vlines([-0.5, 0.5], -60, 0, colors='r', linestyles='dashed')\n",
    "plt.hlines(-3, -L/2, L/2, colors='r', linestyles='dashed')\n",
    "plt.ylim(-50,0)"
   ]
  },
  {
   "cell_type": "code",
   "execution_count": null,
   "metadata": {},
   "outputs": [],
   "source": []
  }
 ],
 "metadata": {
  "kernelspec": {
   "display_name": ".venv",
   "language": "python",
   "name": "python3"
  },
  "language_info": {
   "codemirror_mode": {
    "name": "ipython",
    "version": 3
   },
   "file_extension": ".py",
   "mimetype": "text/x-python",
   "name": "python",
   "nbconvert_exporter": "python",
   "pygments_lexer": "ipython3",
   "version": "3.12.3"
  }
 },
 "nbformat": 4,
 "nbformat_minor": 2
}
